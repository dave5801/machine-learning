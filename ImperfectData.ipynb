{
 "cells": [
  {
   "cell_type": "code",
   "execution_count": 39,
   "metadata": {
    "collapsed": false
   },
   "outputs": [],
   "source": [
    "import pandas as pd\n",
    "import numpy as np\n",
    "import matplotlib.pyplot as plt\n",
    "\n",
    "#url=\"City_of_Seattle_Wage_Data.csv\"\n",
    "url=\"Traffic_Flow_Counts.csv\"\n",
    "seattle_data=pd.read_csv(url)"
   ]
  },
  {
   "cell_type": "code",
   "execution_count": 19,
   "metadata": {
    "collapsed": false
   },
   "outputs": [
    {
     "data": {
      "text/html": [
       "<div>\n",
       "<table border=\"1\" class=\"dataframe\">\n",
       "  <thead>\n",
       "    <tr style=\"text-align: right;\">\n",
       "      <th></th>\n",
       "      <th>DOWNTOWN</th>\n",
       "      <th>STNAME</th>\n",
       "      <th>YEAR</th>\n",
       "      <th>AAWDT</th>\n",
       "    </tr>\n",
       "  </thead>\n",
       "  <tbody>\n",
       "    <tr>\n",
       "      <th>0</th>\n",
       "      <td>False</td>\n",
       "      <td>N 45TH ST</td>\n",
       "      <td>2009</td>\n",
       "      <td>22200</td>\n",
       "    </tr>\n",
       "    <tr>\n",
       "      <th>1</th>\n",
       "      <td>False</td>\n",
       "      <td>NE 80TH ST</td>\n",
       "      <td>2009</td>\n",
       "      <td>9500</td>\n",
       "    </tr>\n",
       "    <tr>\n",
       "      <th>2</th>\n",
       "      <td>True</td>\n",
       "      <td>DENNY WAY</td>\n",
       "      <td>2009</td>\n",
       "      <td>30200</td>\n",
       "    </tr>\n",
       "    <tr>\n",
       "      <th>3</th>\n",
       "      <td>False</td>\n",
       "      <td>E ALOHA ST</td>\n",
       "      <td>2009</td>\n",
       "      <td>7600</td>\n",
       "    </tr>\n",
       "    <tr>\n",
       "      <th>4</th>\n",
       "      <td>False</td>\n",
       "      <td>51ST AVE S</td>\n",
       "      <td>2009</td>\n",
       "      <td>6300</td>\n",
       "    </tr>\n",
       "  </tbody>\n",
       "</table>\n",
       "</div>"
      ],
      "text/plain": [
       "  DOWNTOWN      STNAME  YEAR  AAWDT\n",
       "0    False   N 45TH ST  2009  22200\n",
       "1    False  NE 80TH ST  2009   9500\n",
       "2     True   DENNY WAY  2009  30200\n",
       "3    False  E ALOHA ST  2009   7600\n",
       "4    False  51ST AVE S  2009   6300"
      ]
     },
     "execution_count": 19,
     "metadata": {},
     "output_type": "execute_result"
    }
   ],
   "source": [
    "seattle_data.head()"
   ]
  },
  {
   "cell_type": "code",
   "execution_count": 20,
   "metadata": {
    "collapsed": false
   },
   "outputs": [
    {
     "data": {
      "text/plain": [
       "4"
      ]
     },
     "execution_count": 20,
     "metadata": {},
     "output_type": "execute_result"
    }
   ],
   "source": [
    "seattle_data.shape[1]"
   ]
  },
  {
   "cell_type": "code",
   "execution_count": 30,
   "metadata": {
    "collapsed": false
   },
   "outputs": [
    {
     "name": "stdout",
     "output_type": "stream",
     "text": [
      "    DOWNTOWN                         STNAME  YEAR   AAWDT\n",
      "0      False                      N 45TH ST  2009   22200\n",
      "1      False                     NE 80TH ST  2009    9500\n",
      "2       True                      DENNY WAY  2009   30200\n",
      "3      False                     E ALOHA ST  2009    7600\n",
      "4      False                     51ST AVE S  2009    6300\n",
      "5      False                    24TH AVE NW  2009   10300\n",
      "6      False                     10TH AVE E  2009   13100\n",
      "7      False               NE NORTHGATE WAY  2009   29500\n",
      "8       True                       JAMES ST  2009   33400\n",
      "9      False                     NW 80TH ST  2009    8500\n",
      "10     False                   AURORA AVE N  2009   36700\n",
      "11     False                      4TH AVE S  2009   23800\n",
      "12     False                  AIRPORT WAY S  2009   16700\n",
      "13     False                     15TH AVE W  2009   38500\n",
      "14     False                    S LUCILE ST  2009    6800\n",
      "15      True                      DENNY WAY  2009   24000\n",
      "16     False                   E YESLER WAY  2009    8000\n",
      "17      True                      BOREN AVE  2009   21300\n",
      "18     False                DELRIDGE WAY SW  2009   13400\n",
      "19     False              FAUNTLEROY WAY SW  2009   16500\n",
      "20     False               QUEEN ANNE AVE N  2009   12200\n",
      "21     False                       14TH AVE  2009    8100\n",
      "22     False                     NE 75TH ST  2009   16700\n",
      "23      True                        7TH AVE  2009    7300\n",
      "24     False                     NE 45TH ST  2009   36900\n",
      "25     False                      N 46TH ST  2009   24500\n",
      "26     False                      N 65TH ST  2009    7900\n",
      "27     False                   SW MORGAN ST  2009    7400\n",
      "28     False                    E CHERRY ST  2009    8000\n",
      "29     False                   S GENESEE ST  2009    9800\n",
      "..       ...                            ...   ...     ...\n",
      "782    False              SPRING ST ON RAMP  2007   16100\n",
      "783    False              UNION ST OFF RAMP  2007    9800\n",
      "784    False            JAMES ST ON RAMP SB  2007   20800\n",
      "785    False           CHERRY ST ON RAMP NB  2007   12400\n",
      "786    False            MADISON ST OFF RAMP  2007   13400\n",
      "787    False             CHERRY ST REV RAMP  2007    3900\n",
      "788     True                    WESTERN AVE  2007    7600\n",
      "789     True                    ALASKAN WAY  2007   14300\n",
      "790    False                        SR99 FY  2007   39700\n",
      "791    False                       SR509 NB  2007   58700\n",
      "792    False          ALASKAN WY VI NB & SB  2007   54700\n",
      "793    False          ALASKAN WY VI NB & SB  2007   86200\n",
      "794    False        WEST SEATTLE BR EB & WB  2007   66400\n",
      "795    False        WEST SEATTLE BR EB & WB  2007   85100\n",
      "796    False        WEST SEATTLE BR EB & WB  2007   44300\n",
      "797    False                    35TH AVE SW  2007   23300\n",
      "798    False      BATTERY ST TUNNEL NB & SB  2007   66400\n",
      "799    False          ALASKAN WY VI NB & SB  2007  110100\n",
      "800    False              M L KING JR WAY S  2007   16800\n",
      "801    False              M L KING JR WAY S  2007   19900\n",
      "802    False                 S HENDERSON ST  2007    6800\n",
      "803    False                    S GRAHAM ST  2007   11300\n",
      "804    False                  RAINIER AVE S  2007   34700\n",
      "805    False                   S JACKSON ST  2007   14600\n",
      "806    False      ML KING JR BLVD S NB & SB  2007   14800\n",
      "807    False      M L KING JR WAY S NB & SB  2007   18700\n",
      "808    False                S COLUMBIAN WAY  2007   39600\n",
      "809    False  NORTHGATE WAY W/O 15TH AVE NE  2007   18000\n",
      "810    False               ROOSEVELT WAY NE  2007   12400\n",
      "811     True            MELROSE AVE ON RAMP  2007   16000\n",
      "\n",
      "[812 rows x 4 columns]\n"
     ]
    }
   ],
   "source": [
    "traffic_data = pd.DataFrame(seattle_data)\n",
    "print(traffic_data)"
   ]
  },
  {
   "cell_type": "code",
   "execution_count": 35,
   "metadata": {
    "collapsed": false
   },
   "outputs": [
    {
     "data": {
      "image/png": "[encoded data removed]",
      "text/plain": [
       "<matplotlib.figure.Figure at 0x1085cfa20>"
      ]
     },
     "metadata": {},
     "output_type": "display_data"
    }
   ],
   "source": [
    "downtown_false = traffic_data.loc[traffic_data['DOWNTOWN'] == False]\n",
    "\n",
    "x_column = downtown_false['AAWDT']\n",
    "y_column = downtown_false['YEAR']\n",
    "\n",
    "plt.title(\"\tAverage Annual Weekday Traffic by Year\")\n",
    "\n",
    "plt.xlabel(\"Average Annual Weekday Traffic\")\n",
    "\n",
    "plt.ylabel(\"Year\")\n",
    "\n",
    "plt.scatter(x_column, y_column)\n",
    "plt.show()"
   ]
  },
  {
   "cell_type": "code",
   "execution_count": 37,
   "metadata": {
    "collapsed": false
   },
   "outputs": [
    {
     "data": {
      "image/png": "[encoded data removed]",
      "text/plain": [
       "<matplotlib.figure.Figure at 0x1088c2588>"
      ]
     },
     "metadata": {},
     "output_type": "display_data"
    }
   ],
   "source": [
    "downtown_true = traffic_data.loc[traffic_data['DOWNTOWN'] == True]\n",
    "\n",
    "x_column = downtown_true['AAWDT']\n",
    "y_column = downtown_true['YEAR']\n",
    "\n",
    "plt.title(\"\tAverage Annual Weekday Traffic by Year\")\n",
    "\n",
    "plt.xlabel(\"Average Annual Weekday Traffic\")\n",
    "\n",
    "plt.ylabel(\"Year\")\n",
    "\n",
    "plt.scatter(x_column, y_column)\n",
    "plt.show()\n"
   ]
  },
  {
   "cell_type": "code",
   "execution_count": 56,
   "metadata": {
    "collapsed": false
   },
   "outputs": [
    {
     "data": {
      "text/plain": [
       "\"\\ny_column = downtown_false['AAWDT']\\nx_column = downtown_false['YEAR']\\n\\n\\nx = np.arange(len(y_column))\\n\\nplt.bar(x, y_column)\\nplt.show()\\n\""
      ]
     },
     "execution_count": 56,
     "metadata": {},
     "output_type": "execute_result"
    }
   ],
   "source": [
    "downtown_false = traffic_data.loc[traffic_data['DOWNTOWN'] == False]\n",
    "\n",
    "\n",
    "traffic_data.groupby('YEAR').AAWDT.agg('sum')"
   ]
  },
  {
   "cell_type": "code",
   "execution_count": 60,
   "metadata": {
    "collapsed": false
   },
   "outputs": [
    {
     "data": {
      "image/png": "[encoded data removed]",
      "text/plain": [
       "<matplotlib.figure.Figure at 0x1088020b8>"
      ]
     },
     "metadata": {},
     "output_type": "display_data"
    }
   ],
   "source": [
    "downtown_false = traffic_data.loc[traffic_data['DOWNTOWN'] == False]\n",
    "\n",
    "downtown_false.groupby('YEAR').AAWDT.agg('sum').plot(kind='bar')\n",
    "plt.show()"
   ]
  },
  {
   "cell_type": "code",
   "execution_count": 61,
   "metadata": {
    "collapsed": false
   },
   "outputs": [
    {
     "data": {
      "image/png": "[encoded data removed]",
      "text/plain": [
       "<matplotlib.figure.Figure at 0x108c59e80>"
      ]
     },
     "metadata": {},
     "output_type": "display_data"
    }
   ],
   "source": [
    "downtown_true = traffic_data.loc[traffic_data['DOWNTOWN'] == True]\n",
    "\n",
    "downtown_true.groupby('YEAR').AAWDT.agg('sum').plot(kind='bar')\n",
    "plt.show()"
   ]
  },
  {
   "cell_type": "code",
   "execution_count": null,
   "metadata": {
    "collapsed": true
   },
   "outputs": [],
   "source": [
    "#Analysis: I was graphing traffic in downtown and part of the greater seattle area.\n",
    "#Scatter plots suggest that there is more reported traffic in the suburbs - as car ownership\n",
    "#is probably higher. The bar graphs suggest it's pretty even - so maybe I'm wrong...or right, I don't know."
   ]
  },
  {
   "cell_type": "code",
   "execution_count": null,
   "metadata": {
    "collapsed": true
   },
   "outputs": [],
   "source": []
  }
 ],
 "metadata": {
  "kernelspec": {
   "display_name": "Python 3",
   "language": "python",
   "name": "python3"
  },
  "language_info": {
   "codemirror_mode": {
    "name": "ipython",
    "version": 3
   },
   "file_extension": ".py",
   "mimetype": "text/x-python",
   "name": "python",
   "nbconvert_exporter": "python",
   "pygments_lexer": "ipython3",
   "version": "3.6.2"
  }
 },
 "nbformat": 4,
 "nbformat_minor": 2
}
